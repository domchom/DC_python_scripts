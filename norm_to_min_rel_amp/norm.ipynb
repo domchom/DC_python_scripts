{
 "cells": [
  {
   "cell_type": "code",
   "execution_count": 1,
   "id": "ec4f8172",
   "metadata": {},
   "outputs": [],
   "source": [
    "import glob,os\n",
    "import pandas as pd\n",
    "\n",
    "\n",
    "'''This script takes a directory of csv files from the 2-channel signal processing script by Zac swider. This script calculates\n",
    "the normalized relative amplitude (sample rel amp / min rel amp of the experiment) and then creates a new column and moves it \n",
    "to the frint'''\n",
    "\n",
    "################# INPUT #########################\n",
    "os.chdir(\"/Volumes/DOM_LS/126DCE_230301_Ect-Mgc-Plk1-SFC/processed/crop/0_signalProcessing-202303011635/\") #paste the pathname for your movies of interest\n",
    "\n",
    "#################################\n",
    "\n",
    "fileNames = [] #list for each of the file names\n",
    "\n",
    "for file in glob.glob(\"*.csv\"): #obtaining the name of each file that ends in \".tif\" in the provided directory\n",
    "    fileNames.append(file)\n",
    "\n",
    "for file in fileNames: #for each file, calculate the norm rel ampa nd create a new column\n",
    "    df = pd.read_csv(file) # convert to a df\n",
    "    mean_rel_amp = df['Ch 1 Mean Peak Rel Amp'] #find the column\n",
    "    norm_mean_rel_amp = mean_rel_amp / mean_rel_amp.min() # calc\n",
    "    df['Ch1 Norm Mean Rel Amp (x / min)'] = norm_mean_rel_amp # new column to the df\n",
    "    \n",
    "    # moving the column to the front\n",
    "    cols = list(df.columns.values) #Make a list of all of the columns in the df\n",
    "    cols.pop(cols.index('Ch1 Norm Mean Rel Amp (x / min)')) #Remove b from list\n",
    "    df = df[['Ch1 Norm Mean Rel Amp (x / min)']+cols] #Create new dataframe with columns in the order you wan\n",
    "    \n",
    "    file = file[:-4]\n",
    "\n",
    "    df.to_csv(f'{file}_norm.csv', sep=',', header=True, index=False)\n"
   ]
  },
  {
   "cell_type": "code",
   "execution_count": null,
   "id": "50c6601e",
   "metadata": {},
   "outputs": [],
   "source": []
  }
 ],
 "metadata": {
  "kernelspec": {
   "display_name": "Python 3.9.12 ('base')",
   "language": "python",
   "name": "python3"
  },
  "language_info": {
   "codemirror_mode": {
    "name": "ipython",
    "version": 3
   },
   "file_extension": ".py",
   "mimetype": "text/x-python",
   "name": "python",
   "nbconvert_exporter": "python",
   "pygments_lexer": "ipython3",
   "version": "3.10.8"
  },
  "vscode": {
   "interpreter": {
    "hash": "9e7c5e355466f7aa2375f2a09663ffde6f6d12fe8bf8f1a4007efb595e6d1812"
   }
  }
 },
 "nbformat": 4,
 "nbformat_minor": 5
}
