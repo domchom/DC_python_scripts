{
 "cells": [
  {
   "cell_type": "code",
   "execution_count": 3,
   "metadata": {},
   "outputs": [],
   "source": [
    "import os\n",
    "import pathlib\n",
    "import tifffile\n",
    "\n",
    "# Convert 3D TIFF file (x,y,time) to single files for each frame and save them to a folder for each movie.\n",
    "\n",
    "input_path = pathlib.Path('/Users/domchom/Desktop/Cell_profiler_test/Bement-PatternAnalysis/dom_testing/images')\n",
    "output_path = pathlib.Path('/Users/domchom/Desktop/Cell_profiler_test/Bement-PatternAnalysis/dom_testing/images_new')\n",
    "\n",
    "for file_path in input_path.glob('*.tif'):\n",
    "    try:\n",
    "        # Load TIFF file and extract metadata\n",
    "        image = tifffile.imread(file_path)\n",
    "        with tifffile.TiffFile(file_path) as tif_file:\n",
    "            metadata = tif_file.imagej_metadata\n",
    "            num_channels = metadata.get('channels', 1)\n",
    "            num_slices = metadata.get('slices', 1)\n",
    "            num_frames = metadata.get('frames', 1)\n",
    "            image = image.reshape(num_frames, num_slices, num_channels, image.shape[-1], image.shape[-2])\n",
    "            \n",
    "        # Save single-frame TIFF files to output path\n",
    "        filename = os.path.splitext(os.path.basename(file_path))[0]\n",
    "        subfolder_path = os.path.join(output_path, filename)\n",
    "        os.makedirs(subfolder_path, exist_ok=True)\n",
    "        \n",
    "        for frame_idx, single_frame_array in enumerate(image):\n",
    "            single_frame_path = os.path.join(subfolder_path, f'{filename}_frame_{frame_idx:04d}.tif')\n",
    "            with tifffile.TiffWriter(single_frame_path) as tif:\n",
    "                tif.save(single_frame_array[0, 0, :, :])\n",
    "                    \n",
    "    except Exception as e:\n",
    "        print(f'Error processing {file_path}: {e}')\n"
   ]
  }
 ],
 "metadata": {
  "kernelspec": {
   "display_name": "Python 3.9.7 ('base')",
   "language": "python",
   "name": "python3"
  },
  "language_info": {
   "codemirror_mode": {
    "name": "ipython",
    "version": 3
   },
   "file_extension": ".py",
   "mimetype": "text/x-python",
   "name": "python",
   "nbconvert_exporter": "python",
   "pygments_lexer": "ipython3",
   "version": "3.10.9"
  },
  "orig_nbformat": 4,
  "vscode": {
   "interpreter": {
    "hash": "9e7c5e355466f7aa2375f2a09663ffde6f6d12fe8bf8f1a4007efb595e6d1812"
   }
  }
 },
 "nbformat": 4,
 "nbformat_minor": 2
}
