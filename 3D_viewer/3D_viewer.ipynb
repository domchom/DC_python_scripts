{
 "cells": [
  {
   "cell_type": "code",
   "execution_count": 7,
   "metadata": {},
   "outputs": [
    {
     "name": "stdout",
     "output_type": "stream",
     "text": [
      "(295, 2, 453, 509)\n"
     ]
    }
   ],
   "source": [
    "import os\n",
    "import numpy as np\n",
    "import napari\n",
    "import tifffile\n",
    "from skimage import data\n",
    "from skimage import io, filters, restoration\n",
    "\n",
    "folder_path = '/Users/domchom/Desktop/138_processed'\n",
    "\n",
    "# Load image\n",
    "images = []\n",
    "\n",
    "for filename in os.listdir(folder_path):\n",
    "    if filename.endswith('.tif'):\n",
    "        filename_path = os.path.join(folder_path, filename)\n",
    "\n",
    "        image = tifffile.imread(filename_path)\n",
    "\n",
    "        # standardize image dimensions\n",
    "        with tifffile.TiffFile(filename_path) as tif_file:\n",
    "            metadata = tif_file.imagej_metadata\n",
    "        num_channels = metadata.get('channels', 1)\n",
    "        num_slices = metadata.get('slices', 1)\n",
    "        num_frames = metadata.get('frames', 1)\n",
    "        image = image.reshape(num_frames,\n",
    "                                num_slices,\n",
    "                                num_channels, \n",
    "                                image.shape[-2],  # columns\n",
    "                                image.shape[-1])  # rows\n",
    "        \n",
    "        image = image[:,0,:,:,:]\n",
    "        print(image.shape)\n",
    "\n",
    "        image = restoration.denoise_tv_chambolle(image, weight=0.1)\n",
    "\n",
    "        images.append(image)\n",
    "\n",
    "\n",
    "viewer = napari.view_image(images[0], channel_axis=1, ndisplay=3)\n",
    "napari.run()  # start the \"event loop\" and show the viewer\n"
   ]
  }
 ],
 "metadata": {
  "kernelspec": {
   "display_name": "Python 3.9.7 ('base')",
   "language": "python",
   "name": "python3"
  },
  "language_info": {
   "codemirror_mode": {
    "name": "ipython",
    "version": 3
   },
   "file_extension": ".py",
   "mimetype": "text/x-python",
   "name": "python",
   "nbconvert_exporter": "python",
   "pygments_lexer": "ipython3",
   "version": "3.9.16"
  },
  "orig_nbformat": 4,
  "vscode": {
   "interpreter": {
    "hash": "9e7c5e355466f7aa2375f2a09663ffde6f6d12fe8bf8f1a4007efb595e6d1812"
   }
  }
 },
 "nbformat": 4,
 "nbformat_minor": 2
}
