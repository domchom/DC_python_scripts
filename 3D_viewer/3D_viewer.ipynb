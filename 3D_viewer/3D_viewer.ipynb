{
 "cells": [
  {
   "cell_type": "code",
   "execution_count": 15,
   "metadata": {},
   "outputs": [
    {
     "name": "stdout",
     "output_type": "stream",
     "text": [
      "Processing image 1 of 15 for channel 1\n",
      "Processing image 2 of 15 for channel 1\n",
      "Processing image 3 of 15 for channel 1\n",
      "Processing image 4 of 15 for channel 1\n",
      "Processing image 5 of 15 for channel 1\n",
      "Processing image 6 of 15 for channel 1\n",
      "Processing image 7 of 15 for channel 1\n",
      "Processing image 8 of 15 for channel 1\n",
      "Processing image 9 of 15 for channel 1\n",
      "Processing image 10 of 15 for channel 1\n",
      "Processing image 11 of 15 for channel 1\n",
      "Processing image 12 of 15 for channel 1\n",
      "Processing image 13 of 15 for channel 1\n",
      "Processing image 14 of 15 for channel 1\n",
      "Processing image 15 of 15 for channel 1\n",
      "Processing image 1 of 15 for channel 2\n",
      "Processing image 2 of 15 for channel 2\n",
      "Processing image 3 of 15 for channel 2\n",
      "Processing image 4 of 15 for channel 2\n",
      "Processing image 5 of 15 for channel 2\n",
      "Processing image 6 of 15 for channel 2\n",
      "Processing image 7 of 15 for channel 2\n",
      "Processing image 8 of 15 for channel 2\n",
      "Processing image 9 of 15 for channel 2\n",
      "Processing image 10 of 15 for channel 2\n",
      "Processing image 11 of 15 for channel 2\n",
      "Processing image 12 of 15 for channel 2\n",
      "Processing image 13 of 15 for channel 2\n",
      "Processing image 14 of 15 for channel 2\n",
      "Processing image 15 of 15 for channel 2\n"
     ]
    }
   ],
   "source": [
    "import os\n",
    "import fnmatch\n",
    "import numpy as np\n",
    "import napari\n",
    "import tifffile\n",
    "import scipy\n",
    "\n",
    "folder_path = '/Users/domchom/Desktop/random_movies/20230310_135424_GvDPmEct2rGBDUtr06'\n",
    "\n",
    "ch1 = ch2 = np.zeros(shape=(15,71,1024,1024))\n",
    "search_strings = ['C01_I1','C02_I1']\n",
    "\n",
    "filenames_ch1 = [filename for filename in os.listdir(folder_path) if fnmatch.fnmatch(filename, f'*{search_strings[0]}*.tif')][:15]\n",
    "filenames_ch2 = [filename for filename in os.listdir(folder_path) if fnmatch.fnmatch(filename, f'*{search_strings[1]}*.tif')][:15]\n",
    "filenames_ch1.sort()\n",
    "filenames_ch2.sort()\n",
    "\n",
    "\n",
    "def read_image(filename):\n",
    "    filename_path = os.path.join(folder_path, filename)\n",
    "    image = tifffile.imread(filename_path)\n",
    "    image = scipy.ndimage.uniform_filter(image, size=4, output=np.float64)\n",
    "    return image\n",
    "\n",
    "for i, filename in enumerate(filenames_ch1):\n",
    "    ch1[i,:,:,:] = read_image(filename)\n",
    "    print(f\"Processing image {i+1} of {len(filenames_ch1)} for channel 1\")\n",
    "\n",
    "for i, filename in enumerate(filenames_ch2):\n",
    "    ch2[i,:,:,:] = read_image(filename)\n",
    "    print(f\"Processing image {i+1} of {len(filenames_ch2)} for channel 2\")\n"
   ]
  },
  {
   "cell_type": "code",
   "execution_count": 12,
   "metadata": {},
   "outputs": [],
   "source": [
    "\n",
    "# Create a napari viewer\n",
    "viewer = napari.Viewer()\n",
    "\n",
    "# Add the image data to the viewer\n",
    "viewer.add_image(ch1[:,:,:,:], name='ch1', colormap='green', scale=(6, 1, 1))\n",
    "viewer.add_image(ch2[:,:,:,:], name='ch2', colormap='red', scale=(6, 1, 1))\n",
    "\n",
    "# Set the rendering mode to 3D\n",
    "viewer.dims.ndisplay = 3\n",
    "\n",
    "# Show the viewer\n",
    "napari.run()"
   ]
  }
 ],
 "metadata": {
  "kernelspec": {
   "display_name": "Python 3.9.7 ('base')",
   "language": "python",
   "name": "python3"
  },
  "language_info": {
   "codemirror_mode": {
    "name": "ipython",
    "version": 3
   },
   "file_extension": ".py",
   "mimetype": "text/x-python",
   "name": "python",
   "nbconvert_exporter": "python",
   "pygments_lexer": "ipython3",
   "version": "3.9.16"
  },
  "orig_nbformat": 4,
  "vscode": {
   "interpreter": {
    "hash": "9e7c5e355466f7aa2375f2a09663ffde6f6d12fe8bf8f1a4007efb595e6d1812"
   }
  }
 },
 "nbformat": 4,
 "nbformat_minor": 2
}
