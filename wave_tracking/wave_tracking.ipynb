{
 "cells": [
  {
   "cell_type": "code",
   "execution_count": 1,
   "metadata": {},
   "outputs": [
    {
     "ename": "",
     "evalue": "",
     "output_type": "error",
     "traceback": [
      "\u001b[1;31mThe Kernel crashed while executing code in the the current cell or a previous cell. Please review the code in the cell(s) to identify a possible cause of the failure. Click <a href='https://aka.ms/vscodeJupyterKernelCrash'>here</a> for more info. View Jupyter <a href='command:jupyter.viewOutput'>log</a> for further details."
     ]
    },
    {
     "ename": "",
     "evalue": "",
     "output_type": "error",
     "traceback": [
      "\u001b[1;31mCanceled future for execute_request message before replies were done"
     ]
    }
   ],
   "source": [
    "import os\n",
    "import cv2\n",
    "import tifffile\n",
    "\n",
    "folder_path = '/Users/domchom/Desktop/wave_tracking'\n",
    "\n",
    "# Load image\n",
    "images = {}\n",
    "\n",
    "for filename in os.listdir(folder_path):\n",
    "    if filename.endswith('.tif'):\n",
    "        filename_path = os.path.join(folder_path, filename)\n",
    "\n",
    "        image = tifffile.imread(filename_path)\n",
    "\n",
    "        # standardize image dimensions\n",
    "        with tifffile.TiffFile(filename_path) as tif_file:\n",
    "            metadata = tif_file.imagej_metadata\n",
    "        num_channels = metadata.get('channels', 1)\n",
    "        num_slices = metadata.get('slices', 1)\n",
    "        num_frames = metadata.get('frames', 1)\n",
    "        image = image.reshape(num_frames,\n",
    "                                num_slices,\n",
    "                                num_channels, \n",
    "                                image.shape[-1],  # columns\n",
    "                                image.shape[-2])  # rows\n",
    "\n",
    "        images[filename_path] = image\n",
    "   \n",
    "first_key = list(images.keys())[0]\n",
    "\n",
    "# Apply Gaussian blur to reduce noise\n",
    "img = cv2.GaussianBlur(images[first_key][0,0,0,:,:], (5, 5), 0)\n",
    "\n",
    "# Set block size and constant for adaptive thresholding\n",
    "block_size = 255\n",
    "constant = 40\n",
    "\n",
    "# Apply adaptive thresholding\n",
    "# thresh = cv2.adaptiveThreshold(img, 255, cv2.ADAPTIVE_THRESH_MEAN_C, cv2.THRESH_BINARY, block_size, constant)\n",
    "\n",
    "# Show thresholded image\n",
    "cv2.imshow('Adaptive Thresholding', img)\n",
    "cv2.waitKey(0)\n",
    "cv2.destroyAllWindows()"
   ]
  }
 ],
 "metadata": {
  "kernelspec": {
   "display_name": "Python 3.9.7 ('base')",
   "language": "python",
   "name": "python3"
  },
  "language_info": {
   "codemirror_mode": {
    "name": "ipython",
    "version": 3
   },
   "file_extension": ".py",
   "mimetype": "text/x-python",
   "name": "python",
   "nbconvert_exporter": "python",
   "pygments_lexer": "ipython3",
   "version": "3.10.9"
  },
  "orig_nbformat": 4,
  "vscode": {
   "interpreter": {
    "hash": "9e7c5e355466f7aa2375f2a09663ffde6f6d12fe8bf8f1a4007efb595e6d1812"
   }
  }
 },
 "nbformat": 4,
 "nbformat_minor": 2
}
