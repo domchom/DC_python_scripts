{
 "cells": [
  {
   "cell_type": "code",
   "execution_count": 17,
   "metadata": {},
   "outputs": [
    {
     "name": "stdout",
     "output_type": "stream",
     "text": [
      "[[[[[ 358  958  894 ...  858  936  988]\n",
      "    [ 821  926  582 ... 1025  681  898]\n",
      "    [ 913 1162 1180 ...  912 1090  683]\n",
      "    ...\n",
      "    [ 972  642  910 ...  794  920  598]\n",
      "    [ 694  543  417 ... 1020  621  554]\n",
      "    [1011  606  688 ...  772  624  776]]]]]\n",
      "5\n",
      "1874714.2400000058\n"
     ]
    }
   ],
   "source": [
    "import os\n",
    "import scipy\n",
    "import tifffile\n",
    "import numpy as np\n",
    "import pandas as pd\n",
    "\n",
    "folder_path = '/Users/domchom/Desktop'\n",
    "\n",
    "# Load image\n",
    "images = {}\n",
    "\n",
    "for filename in os.listdir(folder_path):\n",
    "    if filename.endswith('.tif'):\n",
    "        filename_path = os.path.join(folder_path, filename)\n",
    "\n",
    "        image = tifffile.imread(filename_path)\n",
    "\n",
    "        # standardize image dimensions\n",
    "        with tifffile.TiffFile(filename_path) as tif_file:\n",
    "            metadata = tif_file.imagej_metadata\n",
    "        num_channels = metadata.get('channels', 1)\n",
    "        num_slices = metadata.get('slices', 1)\n",
    "        num_frames = metadata.get('frames', 1)\n",
    "        image = image.reshape(num_frames,\n",
    "                                num_slices,\n",
    "                                num_channels, \n",
    "                                image.shape[-1],  # columns\n",
    "                                image.shape[-2])  # rows\n",
    "\n",
    "        images[filename_path] = image\n",
    "   \n",
    "\n",
    "window_range = range(5,50,1)\n",
    "\n",
    "for image in images:\n",
    "    max_variance = -1\n",
    "    for i in window_range:\n",
    "        result = abs(scipy.ndimage.uniform_filter(images[image]**2, size=i, output=np.float64) - \n",
    "                    (scipy.ndimage.uniform_filter(images[image], size=i, output=np.float64)**2))\n",
    "        variance = result.max()\n",
    "        if variance > max_variance:\n",
    "            max_variance = variance\n",
    "            size = i\n",
    "\n",
    "print(size)\n",
    "print(max_variance)"
   ]
  },
  {
   "cell_type": "code",
   "execution_count": 18,
   "metadata": {},
   "outputs": [
    {
     "name": "stdout",
     "output_type": "stream",
     "text": [
      "5\n",
      "{5: {'window_size': 5, 'max_variance': 1874714.2400000058}, 6: {'window_size': 6, 'max_variance': 1774272.7222222232}, 7: {'window_size': 7, 'max_variance': 1693717.785922534}, 8: {'window_size': 8, 'max_variance': 1667167.9338378906}, 9: {'window_size': 9, 'max_variance': 1597232.4157902754}, 10: {'window_size': 10, 'max_variance': 1521698.747600003}, 11: {'window_size': 11, 'max_variance': 1465245.4367871108}, 12: {'window_size': 12, 'max_variance': 1415545.9878472239}, 13: {'window_size': 13, 'max_variance': 1375721.250306363}, 14: {'window_size': 14, 'max_variance': 1340663.7835537288}, 15: {'window_size': 15, 'max_variance': 1300930.3397530841}, 16: {'window_size': 16, 'max_variance': 1303055.0451660156}, 17: {'window_size': 17, 'max_variance': 1295921.2344679823}, 18: {'window_size': 18, 'max_variance': 1264967.583257127}, 19: {'window_size': 19, 'max_variance': 1248696.4947168936}, 20: {'window_size': 20, 'max_variance': 1237186.4152250038}, 21: {'window_size': 21, 'max_variance': 1223290.1093885761}, 22: {'window_size': 22, 'max_variance': 1217439.7071921292}, 23: {'window_size': 23, 'max_variance': 1213148.9824150105}, 24: {'window_size': 24, 'max_variance': 1213858.8939073335}, 25: {'window_size': 25, 'max_variance': 1208636.0290559973}, 26: {'window_size': 26, 'max_variance': 1207091.5593050828}, 27: {'window_size': 27, 'max_variance': 1207371.9005646934}, 28: {'window_size': 28, 'max_variance': 1200516.2005690988}, 29: {'window_size': 29, 'max_variance': 1195317.524285257}, 30: {'window_size': 30, 'max_variance': 1195144.3348197541}, 31: {'window_size': 31, 'max_variance': 1188428.9765408684}, 32: {'window_size': 32, 'max_variance': 1189714.54296875}, 33: {'window_size': 33, 'max_variance': 1182836.6272036675}, 34: {'window_size': 34, 'max_variance': 1173114.6909617027}, 35: {'window_size': 35, 'max_variance': 1169371.7888653092}, 36: {'window_size': 36, 'max_variance': 1168290.5592427058}, 37: {'window_size': 37, 'max_variance': 1162520.0172685273}, 38: {'window_size': 38, 'max_variance': 1160381.4976385238}, 39: {'window_size': 39, 'max_variance': 1153849.3233240037}, 40: {'window_size': 40, 'max_variance': 1151740.1511000001}, 41: {'window_size': 41, 'max_variance': 1146800.911630529}, 42: {'window_size': 42, 'max_variance': 1144639.8999259546}, 43: {'window_size': 43, 'max_variance': 1144426.5567688805}, 44: {'window_size': 44, 'max_variance': 1143468.5621267422}, 45: {'window_size': 45, 'max_variance': 1142607.1534349045}, 46: {'window_size': 46, 'max_variance': 1138809.5338013347}, 47: {'window_size': 47, 'max_variance': 1136897.7161974285}, 48: {'window_size': 48, 'max_variance': 1137149.6710086418}, 49: {'window_size': 49, 'max_variance': 1134267.6453872386}}\n"
     ]
    }
   ],
   "source": [
    "import os\n",
    "import scipy\n",
    "import tifffile\n",
    "import numpy as np\n",
    "import pandas as pd\n",
    "\n",
    "folder_path = '/Users/domchom/Desktop'\n",
    "\n",
    "# Load image\n",
    "images = {}\n",
    "\n",
    "for filename in os.listdir(folder_path):\n",
    "    if filename.endswith('.tif'):\n",
    "        filename_path = os.path.join(folder_path, filename)\n",
    "\n",
    "        image = tifffile.imread(filename_path)\n",
    "\n",
    "        # standardize image dimensions\n",
    "        with tifffile.TiffFile(filename_path) as tif_file:\n",
    "            metadata = tif_file.imagej_metadata\n",
    "        num_channels = metadata.get('channels', 1)\n",
    "        num_slices = metadata.get('slices', 1)\n",
    "        num_frames = metadata.get('frames', 1)\n",
    "        image = image.reshape(num_frames,\n",
    "                                num_slices,\n",
    "                                num_channels, \n",
    "                                image.shape[-1],  # columns\n",
    "                                image.shape[-2])  # rows\n",
    "\n",
    "        images[filename_path] = image\n",
    "   \n",
    "\n",
    "window_range = range(5,50,1)\n",
    "\n",
    "for image in images:\n",
    "    maxvar_dic = {}\n",
    "    for i in window_range:\n",
    "        result = abs(scipy.ndimage.uniform_filter(images[image]**2, size=i, output=np.float64)-(scipy.ndimage.uniform_filter(images[image], size=i, output=np.float64)**2))\n",
    "        maxvar_dic[i] = {}\n",
    "        maxvar_dic[i][\"window_size\"] = i\n",
    "        maxvar_dic[i][\"max_variance\"] = result.max()\n",
    "    df = pd.DataFrame(data=maxvar_dic)\n",
    "    df = df.transpose()\n",
    "    max_size= int(df[\"window_size\"].loc[df[\"max_variance\"] == df[\"max_variance\"].max()])\n",
    "    size = max_size\n",
    "\n",
    "print(size)\n",
    "print(maxvar_dic)"
   ]
  }
 ],
 "metadata": {
  "kernelspec": {
   "display_name": "Python 3.9.7 ('base')",
   "language": "python",
   "name": "python3"
  },
  "language_info": {
   "codemirror_mode": {
    "name": "ipython",
    "version": 3
   },
   "file_extension": ".py",
   "mimetype": "text/x-python",
   "name": "python",
   "nbconvert_exporter": "python",
   "pygments_lexer": "ipython3",
   "version": "3.9.16"
  },
  "orig_nbformat": 4,
  "vscode": {
   "interpreter": {
    "hash": "9e7c5e355466f7aa2375f2a09663ffde6f6d12fe8bf8f1a4007efb595e6d1812"
   }
  }
 },
 "nbformat": 4,
 "nbformat_minor": 2
}
